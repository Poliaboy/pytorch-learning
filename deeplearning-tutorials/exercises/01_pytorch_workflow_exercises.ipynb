{
  "cells": [
    {
      "cell_type": "markdown",
      "metadata": {
        "colab_type": "text",
        "id": "view-in-github"
      },
      "source": [
        "<a href=\"https://colab.research.google.com/github/mrdbourke/pytorch-deep-learning/blob/main/extras/exercises/01_pytorch_workflow_exercises.ipynb\" target=\"_parent\"><img src=\"https://colab.research.google.com/assets/colab-badge.svg\" alt=\"Open In Colab\"/></a>"
      ]
    },
    {
      "cell_type": "markdown",
      "metadata": {
        "id": "N8LsPXZti9Sw"
      },
      "source": [
        "# 01. PyTorch Workflow Exercise Template\n",
        "\n",
        "The following is a template for the PyTorch workflow exercises.\n",
        "\n",
        "It's only starter code and it's your job to fill in the blanks.\n",
        "\n",
        "Because of the flexibility of PyTorch, there may be more than one way to answer the question.\n",
        "\n",
        "Don't worry about trying to be *right* just try writing code that suffices the question.\n",
        "\n",
        "You can see one form of [solutions on GitHub](https://github.com/mrdbourke/pytorch-deep-learning/tree/main/extras/solutions) (but try the exercises below yourself first!)."
      ]
    },
    {
      "cell_type": "code",
      "execution_count": 1,
      "metadata": {
        "id": "Glu2fM4dkNlx"
      },
      "outputs": [],
      "source": [
        "# Import necessary libraries\n",
        "import torch\n",
        "from torch import nn\n",
        "import matplotlib.pyplot as plt\n"
      ]
    },
    {
      "cell_type": "code",
      "execution_count": 2,
      "metadata": {
        "id": "LqKhXY26m31s"
      },
      "outputs": [],
      "source": [
        "# Setup device-agnostic code\n",
        "device = \"cuda\" if torch.cuda.is_available() else \"cpu\""
      ]
    },
    {
      "cell_type": "markdown",
      "metadata": {
        "id": "g7HUhxCxjeBx"
      },
      "source": [
        "## 1. Create a straight line dataset using the linear regression formula (`weight * X + bias`).\n",
        "  * Set `weight=0.3` and `bias=0.9` there should be at least 100 datapoints total. \n",
        "  * Split the data into 80% training, 20% testing.\n",
        "  * Plot the training and testing data so it becomes visual.\n",
        "\n",
        "Your output of the below cell should look something like:\n",
        "```\n",
        "Number of X samples: 100\n",
        "Number of y samples: 100\n",
        "First 10 X & y samples:\n",
        "X: tensor([0.0000, 0.0100, 0.0200, 0.0300, 0.0400, 0.0500, 0.0600, 0.0700, 0.0800,\n",
        "        0.0900])\n",
        "y: tensor([0.9000, 0.9030, 0.9060, 0.9090, 0.9120, 0.9150, 0.9180, 0.9210, 0.9240,\n",
        "        0.9270])\n",
        "```\n",
        "\n",
        "Of course the numbers in `X` and `y` may be different but ideally they're created using the linear regression formula."
      ]
    },
    {
      "cell_type": "code",
      "execution_count": 3,
      "metadata": {
        "id": "KbDG5MV7jhvE"
      },
      "outputs": [
        {
          "name": "stdout",
          "output_type": "stream",
          "text": [
            "Number of X samples: 100\n",
            "Number of y samples: 100\n",
            "First 10 X & y samples:\n",
            "X: tensor([[0.0000],\n",
            "        [0.0100],\n",
            "        [0.0200],\n",
            "        [0.0300],\n",
            "        [0.0400],\n",
            "        [0.0500],\n",
            "        [0.0600],\n",
            "        [0.0700],\n",
            "        [0.0800],\n",
            "        [0.0900]])\n",
            "y: tensor([[0.9000],\n",
            "        [0.9030],\n",
            "        [0.9060],\n",
            "        [0.9090],\n",
            "        [0.9120],\n",
            "        [0.9150],\n",
            "        [0.9180],\n",
            "        [0.9210],\n",
            "        [0.9240],\n",
            "        [0.9270]])\n"
          ]
        }
      ],
      "source": [
        "# Create the data parameters\n",
        "weight = 0.3\n",
        "bias = 0.9\n",
        "\n",
        "# Make X and y using linear regression formula\n",
        "X = torch.arange(0, 1, 0.01).unsqueeze(dim=1)\n",
        "y = weight * X + bias\n",
        "\n",
        "print(f\"Number of X samples: {len(X)}\")\n",
        "print(f\"Number of y samples: {len(y)}\")\n",
        "print(f\"First 10 X & y samples:\\nX: {X[:10]}\\ny: {y[:10]}\")"
      ]
    },
    {
      "cell_type": "code",
      "execution_count": 4,
      "metadata": {
        "id": "GlwtT1djkmLw"
      },
      "outputs": [],
      "source": [
        "# Split the data into training and testing\n",
        "train_split = int(0.8 * len(X))\n",
        "X_train, y_train = X[:train_split], y[:train_split]\n",
        "X_test, y_test = X[train_split:], y[train_split:]\n"
      ]
    },
    {
      "cell_type": "code",
      "execution_count": 5,
      "metadata": {
        "id": "29iQZFNhlYJ-"
      },
      "outputs": [
        {
          "data": {
            "image/png": "[encoded data removed]",
            "text/plain": [
              "<Figure size 1000x700 with 1 Axes>"
            ]
          },
          "metadata": {},
          "output_type": "display_data"
        }
      ],
      "source": [
        "# Plot the training and testing data \n",
        "plt.figure(figsize=(10, 7))\n",
        "plt.scatter(X_train, y_train, c=\"b\", s=4, label=\"Training data\")\n",
        "plt.scatter(X_test, y_test, c=\"g\", s=4, label=\"Testing data\")\n",
        "plt.legend()\n",
        "plt.show()"
      ]
    },
    {
      "cell_type": "markdown",
      "metadata": {
        "id": "ImZoe3v8jif8"
      },
      "source": [
        "## 2. Build a PyTorch model by subclassing `nn.Module`. \n",
        "  * Inside should be a randomly initialized `nn.Parameter()` with `requires_grad=True`, one for `weights` and one for `bias`. \n",
        "  * Implement the `forward()` method to compute the linear regression function you used to create the dataset in 1. \n",
        "  * Once you've constructed the model, make an instance of it and check its `state_dict()`.\n",
        "  * **Note:** If you'd like to use `nn.Linear()` instead of `nn.Parameter()` you can."
      ]
    },
    {
      "cell_type": "code",
      "execution_count": 6,
      "metadata": {
        "id": "qzd__Y5rjtB8"
      },
      "outputs": [],
      "source": [
        "# Create PyTorch linear regression model by subclassing nn.Module\n",
        "class LinearRegressionModel(nn.Module):\n",
        "    def __init__(self):\n",
        "        super().__init__()\n",
        "        self.linear_layer = nn.Linear(in_features=1, out_features=1)\n",
        "        \n",
        "    def forward(self, x: torch.Tensor) -> torch.Tensor:\n",
        "        return self.linear_layer(x)\n",
        "\n"
      ]
    },
    {
      "cell_type": "code",
      "execution_count": 7,
      "metadata": {
        "id": "5LdcDnmOmyQ2"
      },
      "outputs": [
        {
          "data": {
            "text/plain": [
              "OrderedDict([('linear_layer.weight', tensor([[-0.8854]], device='cuda:0')),\n",
              "             ('linear_layer.bias', tensor([0.7115], device='cuda:0'))])"
            ]
          },
          "execution_count": 7,
          "metadata": {},
          "output_type": "execute_result"
        }
      ],
      "source": [
        "# Instantiate the model and put it to the target device\n",
        "model = LinearRegressionModel().to(device)\n",
        "model.state_dict()\n"
      ]
    },
    {
      "cell_type": "markdown",
      "metadata": {
        "id": "G6nYOrJhjtfu"
      },
      "source": [
        "## 3. Create a loss function and optimizer using `nn.L1Loss()` and `torch.optim.SGD(params, lr)` respectively. \n",
        "  * Set the learning rate of the optimizer to be 0.01 and the parameters to optimize should be the model parameters from the model you created in 2.\n",
        "  * Write a training loop to perform the appropriate training steps for 300 epochs.\n",
        "  * The training loop should test the model on the test dataset every 20 epochs."
      ]
    },
    {
      "cell_type": "code",
      "execution_count": 10,
      "metadata": {
        "id": "ltvoZ-FWjv1j"
      },
      "outputs": [],
      "source": [
        "# Create the loss function and optimizer\n",
        "loss_fn = nn.L1Loss()\n",
        "optimizer = torch.optim.SGD(model.parameters(), lr=0.01)\n"
      ]
    },
    {
      "cell_type": "code",
      "execution_count": 17,
      "metadata": {
        "id": "xpE83NvNnkdV"
      },
      "outputs": [
        {
          "name": "stdout",
          "output_type": "stream",
          "text": [
            "Epoch: 0 | Train loss: 0.101 | Test loss: 0.239\n",
            "Epoch: 20 | Train loss: 0.094 | Test loss: 0.222\n",
            "Epoch: 40 | Train loss: 0.088 | Test loss: 0.206\n",
            "Epoch: 60 | Train loss: 0.081 | Test loss: 0.190\n",
            "Epoch: 80 | Train loss: 0.074 | Test loss: 0.174\n",
            "Epoch: 100 | Train loss: 0.067 | Test loss: 0.157\n",
            "Epoch: 120 | Train loss: 0.060 | Test loss: 0.141\n",
            "Epoch: 140 | Train loss: 0.053 | Test loss: 0.125\n",
            "Epoch: 160 | Train loss: 0.046 | Test loss: 0.109\n",
            "Epoch: 180 | Train loss: 0.040 | Test loss: 0.093\n",
            "Epoch: 200 | Train loss: 0.033 | Test loss: 0.076\n",
            "Epoch: 220 | Train loss: 0.026 | Test loss: 0.060\n",
            "Epoch: 240 | Train loss: 0.019 | Test loss: 0.044\n",
            "Epoch: 260 | Train loss: 0.012 | Test loss: 0.028\n",
            "Epoch: 280 | Train loss: 0.005 | Test loss: 0.012\n",
            "Epoch: 300 | Train loss: 0.007 | Test loss: 0.003\n",
            "Epoch: 320 | Train loss: 0.007 | Test loss: 0.003\n",
            "Epoch: 340 | Train loss: 0.007 | Test loss: 0.003\n",
            "Epoch: 360 | Train loss: 0.007 | Test loss: 0.003\n",
            "Epoch: 380 | Train loss: 0.007 | Test loss: 0.003\n",
            "Epoch: 400 | Train loss: 0.007 | Test loss: 0.003\n",
            "Epoch: 420 | Train loss: 0.007 | Test loss: 0.003\n",
            "Epoch: 440 | Train loss: 0.007 | Test loss: 0.003\n",
            "Epoch: 460 | Train loss: 0.007 | Test loss: 0.003\n",
            "Epoch: 480 | Train loss: 0.007 | Test loss: 0.003\n",
            "Epoch: 500 | Train loss: 0.007 | Test loss: 0.003\n",
            "Epoch: 520 | Train loss: 0.007 | Test loss: 0.003\n",
            "Epoch: 540 | Train loss: 0.007 | Test loss: 0.003\n",
            "Epoch: 560 | Train loss: 0.007 | Test loss: 0.003\n",
            "Epoch: 580 | Train loss: 0.007 | Test loss: 0.003\n",
            "Epoch: 600 | Train loss: 0.007 | Test loss: 0.003\n",
            "Epoch: 620 | Train loss: 0.007 | Test loss: 0.003\n",
            "Epoch: 640 | Train loss: 0.007 | Test loss: 0.003\n",
            "Epoch: 660 | Train loss: 0.007 | Test loss: 0.003\n",
            "Epoch: 680 | Train loss: 0.007 | Test loss: 0.003\n",
            "Epoch: 700 | Train loss: 0.007 | Test loss: 0.003\n",
            "Epoch: 720 | Train loss: 0.007 | Test loss: 0.003\n",
            "Epoch: 740 | Train loss: 0.007 | Test loss: 0.003\n",
            "Epoch: 760 | Train loss: 0.007 | Test loss: 0.003\n",
            "Epoch: 780 | Train loss: 0.007 | Test loss: 0.003\n",
            "Epoch: 800 | Train loss: 0.007 | Test loss: 0.003\n",
            "Epoch: 820 | Train loss: 0.007 | Test loss: 0.003\n",
            "Epoch: 840 | Train loss: 0.007 | Test loss: 0.003\n",
            "Epoch: 860 | Train loss: 0.007 | Test loss: 0.003\n",
            "Epoch: 880 | Train loss: 0.007 | Test loss: 0.003\n",
            "Epoch: 900 | Train loss: 0.007 | Test loss: 0.003\n",
            "Epoch: 920 | Train loss: 0.007 | Test loss: 0.003\n",
            "Epoch: 940 | Train loss: 0.007 | Test loss: 0.003\n",
            "Epoch: 960 | Train loss: 0.007 | Test loss: 0.003\n",
            "Epoch: 980 | Train loss: 0.007 | Test loss: 0.003\n"
          ]
        }
      ],
      "source": [
        "# Training loop\n",
        "epochs = 1000\n",
        "train_loss_values = []\n",
        "test_loss_values = []\n",
        "epoch_count = []\n",
        "\n",
        "# Train model for 300 epochs\n",
        "X_train, y_train = X_train.to(device), y_train.to(device)\n",
        "X_test, y_test = X_test.to(device), y_test.to(device)\n",
        "\n",
        "# Send data to target device\n",
        "\n",
        "\n",
        "for epoch in range(epochs):\n",
        "  ### Training\n",
        "\n",
        "  # Put model in train mode\n",
        "  model.train()\n",
        "\n",
        "  # 1. Forward pass\n",
        "  y_pred = model(X_train)\n",
        "\n",
        "  # 2. Calculate loss\n",
        "  loss = loss_fn(y_pred, y_train)\n",
        "\n",
        "  # 3. Zero gradients\n",
        "  optimizer.zero_grad()\n",
        "\n",
        "  # 4. Backpropagation\n",
        "  loss.backward()\n",
        "\n",
        "  # 5. Step the optimizer\n",
        "  optimizer.step()\n",
        "\n",
        "  ### Perform testing every 20 epochs\n",
        "  if epoch % 20 == 0:\n",
        "\n",
        "    # Put model in evaluation mode and setup inference context \n",
        "    model.eval()\n",
        "\n",
        "    # 1. Forward pass\n",
        "    with torch.inference_mode():\n",
        "      test_pred = model(X_test)\n",
        "      test_loss = loss_fn(test_pred, y_test)\n",
        "\n",
        "      # Print out what's happening\n",
        "      print(f\"Epoch: {epoch} | Train loss: {loss:.3f} | Test loss: {test_loss:.3f}\")"
      ]
    },
    {
      "cell_type": "markdown",
      "metadata": {
        "id": "x4j4TM18jwa7"
      },
      "source": [
        "## 4. Make predictions with the trained model on the test data.\n",
        "  * Visualize these predictions against the original training and testing data (**note:** you may need to make sure the predictions are *not* on the GPU if you want to use non-CUDA-enabled libraries such as matplotlib to plot)."
      ]
    },
    {
      "cell_type": "code",
      "execution_count": 18,
      "metadata": {
        "id": "bbMPK5Qjjyx_"
      },
      "outputs": [
        {
          "data": {
            "text/plain": [
              "tensor([[1.1299],\n",
              "        [1.1328],\n",
              "        [1.1357],\n",
              "        [1.1387],\n",
              "        [1.1416],\n",
              "        [1.1445],\n",
              "        [1.1475],\n",
              "        [1.1504],\n",
              "        [1.1533],\n",
              "        [1.1562],\n",
              "        [1.1592],\n",
              "        [1.1621],\n",
              "        [1.1650],\n",
              "        [1.1680],\n",
              "        [1.1709],\n",
              "        [1.1738],\n",
              "        [1.1768],\n",
              "        [1.1797],\n",
              "        [1.1826],\n",
              "        [1.1855]], device='cuda:0')"
            ]
          },
          "execution_count": 18,
          "metadata": {},
          "output_type": "execute_result"
        }
      ],
      "source": [
        "# Make predictions with the model\n",
        "model.eval()\n",
        "with torch.inference_mode():\n",
        "  y_preds = model(X_test)\n",
        "\n",
        "y_preds"
      ]
    },
    {
      "cell_type": "code",
      "execution_count": 19,
      "metadata": {
        "id": "K3BdmQaDpFo8"
      },
      "outputs": [
        {
          "data": {
            "image/png": "[encoded data removed]",
            "text/plain": [
              "<Figure size 1000x700 with 1 Axes>"
            ]
          },
          "metadata": {},
          "output_type": "display_data"
        }
      ],
      "source": [
        "# Plot the predictions (these may need to be on a specific device)\n",
        "plt.figure(figsize=(10, 7))\n",
        "plt.scatter(X_train.cpu(), y_train.cpu(), c=\"b\", s=4, label=\"Training data\")\n",
        "plt.scatter(X_test.cpu(), y_test.cpu(), c=\"g\", s=4, label=\"Testing data\")\n",
        "plt.scatter(X_test.cpu(), y_preds.cpu(), c=\"r\", s=4, label=\"Predictions\")\n",
        "plt.legend()\n",
        "plt.show()"
      ]
    },
    {
      "cell_type": "markdown",
      "metadata": {
        "id": "s2OnlMWKjzX8"
      },
      "source": [
        "## 5. Save your trained model's `state_dict()` to file.\n",
        "  * Create a new instance of your model class you made in 2. and load in the `state_dict()` you just saved to it.\n",
        "  * Perform predictions on your test data with the loaded model and confirm they match the original model predictions from 4."
      ]
    },
    {
      "cell_type": "code",
      "execution_count": 22,
      "metadata": {
        "id": "hgxhgD14qr-i"
      },
      "outputs": [],
      "source": [
        "from pathlib import Path\n",
        "\n",
        "# 1. Create models directory \n",
        "MODEL_PATH = Path(\"models\")\n",
        "MODEL_PATH.mkdir(parents=True, exist_ok=True)\n",
        "\n",
        "\n",
        "# 2. Create model save path \n",
        "MODEL_NAME = \"01_pytorch_workflow_exercise.pth\"\n",
        "MODEL_SAVE_PATH = MODEL_PATH / MODEL_NAME\n",
        "\n",
        "\n",
        "# 3. Save the model state dict\n",
        "torch.save(model.state_dict(), MODEL_SAVE_PATH)"
      ]
    },
    {
      "cell_type": "code",
      "execution_count": 25,
      "metadata": {
        "id": "P9vTgiLRrJ7T"
      },
      "outputs": [
        {
          "data": {
            "text/plain": [
              "<All keys matched successfully>"
            ]
          },
          "execution_count": 25,
          "metadata": {},
          "output_type": "execute_result"
        }
      ],
      "source": [
        "# Create new instance of model and load saved state dict (make sure to put it on the target device)\n",
        "model_loaded = LinearRegressionModel().to(device)\n",
        "model_loaded.load_state_dict(torch.load(MODEL_SAVE_PATH))"
      ]
    },
    {
      "cell_type": "code",
      "execution_count": 26,
      "metadata": {
        "id": "8UGX3VebrVtI"
      },
      "outputs": [
        {
          "name": "stdout",
          "output_type": "stream",
          "text": [
            "Loaded model and made predictions: tensor([[True],\n",
            "        [True],\n",
            "        [True],\n",
            "        [True],\n",
            "        [True],\n",
            "        [True],\n",
            "        [True],\n",
            "        [True],\n",
            "        [True],\n",
            "        [True],\n",
            "        [True],\n",
            "        [True],\n",
            "        [True],\n",
            "        [True],\n",
            "        [True],\n",
            "        [True],\n",
            "        [True],\n",
            "        [True],\n",
            "        [True],\n",
            "        [True]], device='cuda:0')\n"
          ]
        }
      ],
      "source": [
        "# Make predictions with loaded model and compare them to the previous\n",
        "model.eval()\n",
        "with torch.inference_mode():\n",
        "  loaded_model_preds = model_loaded(X_test)\n",
        "\n",
        "\n",
        "print(f\"Loaded model and made predictions: {loaded_model_preds == y_preds}\")"
      ]
    }
  ],
  "metadata": {
    "accelerator": "GPU",
    "colab": {
      "authorship_tag": "ABX9TyNYzatJtFkfUqqdiR6rYwVL",
      "collapsed_sections": [],
      "include_colab_link": true,
      "name": "01_pytorch_workflow_exercises.ipynb",
      "provenance": []
    },
    "kernelspec": {
      "display_name": "Python 3 (ipykernel)",
      "language": "python",
      "name": "python3"
    },
    "language_info": {
      "codemirror_mode": {
        "name": "ipython",
        "version": 3
      },
      "file_extension": ".py",
      "mimetype": "text/x-python",
      "name": "python",
      "nbconvert_exporter": "python",
      "pygments_lexer": "ipython3",
      "version": "3.11.7"
    }
  },
  "nbformat": 4,
  "nbformat_minor": 0
}
